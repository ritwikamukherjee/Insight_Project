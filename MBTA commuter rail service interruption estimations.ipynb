{
 "cells": [
  {
   "cell_type": "markdown",
   "metadata": {},
   "source": [
    "# Estimate service interruptions in the commuter rails"
   ]
  },
  {
   "cell_type": "markdown",
   "metadata": {},
   "source": [
    "# 1) Data collection and cleaning\n",
    "Extract information from the MBTA API https://www.mbta.com/developers/v3-api/streaming"
   ]
  },
  {
   "cell_type": "code",
   "execution_count": null,
   "metadata": {},
   "outputs": [],
   "source": [
    "import glob\n",
    "import requests\n",
    "import json\n",
    "import pickle\n",
    "import requests\n",
    "import datetime\n",
    "import pandas as pd\n",
    "import numpy as np\n",
    "import matplotlib.pyplot as plt\n",
    "import seaborn as sns\n",
    "import pprint\n",
    "import tqdm\n",
    "import os"
   ]
  },
  {
   "cell_type": "markdown",
   "metadata": {},
   "source": [
    "Collect information from the MBTA API for the past alerts from Nov 2017 to Nov 2019 (only available data from them)"
   ]
  },
  {
   "cell_type": "code",
   "execution_count": null,
   "metadata": {},
   "outputs": [],
   "source": [
    "from datetime import timedelta, date\n",
    "from calendar import monthrange\n",
    "from datetime import datetime, timedelta\n",
    "\n",
    "def monthdelta(d1, d2):\n",
    "    delta = 0\n",
    "    while True:\n",
    "        mdays = monthrange(d1.year, d1.month)[1]\n",
    "        d1 += timedelta(days=mdays)\n",
    "        if d1 <= d2:\n",
    "            delta += 1\n",
    "        else:\n",
    "            break\n",
    "    return delta\n",
    "\n",
    "def daterange(start_date, end_date):\n",
    "    for n in range(monthdelta(start_date,end_date)):\n",
    "        yield start_date + timedelta(n*31)\n",
    "\n",
    "start_date = date(2017, 11, 8)\n",
    "end_date = date(2019, 12, 8)\n",
    "list_timestamps_2years=list()\n",
    "for single_date in daterange(start_date, end_date):\n",
    "    list_timestamps_2years.append(int(datetime(*single_date.timetuple()[:-4]).timestamp()))"
   ]
  },
  {
   "cell_type": "code",
   "execution_count": null,
   "metadata": {},
   "outputs": [],
   "source": [
    "request_lists_CR=list()\n",
    "response_lists_CR=list()\n",
    "for i in tqdm.tqdm_notebook(range(len(list_timestamps_2years)-1)):\n",
    "  for j in tqdm.tqdm_notebook(range (0,len(commuter_rails))):\n",
    "    api_keys=f\"http://realtime.mbta.com/developer/api/v2.1/pastAlerts?api_key=wX9NwuHnZU2ToO7GmGR9uw&format=json&from_datetime={list_timestamps_2years[i]}&to_datetime={list_timestamps_2years[i+1]}&route={commuter_rails[j]}\"\n",
    "    request_lists_CR.append(api_keys)\n",
    "    response_lists_CR.append(requests.get(api_keys).json())"
   ]
  },
  {
   "cell_type": "markdown",
   "metadata": {},
   "source": [
    "This let me get information about all past alerts specifically for 12 commuter rails for 24 months. Nov 2017 - Nov 2019  "
   ]
  },
  {
   "cell_type": "code",
   "execution_count": null,
   "metadata": {},
   "outputs": [],
   "source": [
    "#Save the data to a pkl file. The files are small and can be read easily\n",
    "with open('/content/gdrive/My Drive/mbta_past_alerts_CR3.pkl', 'wb') as f:\n",
    "  pickle.dump(response_lists_CR, f)"
   ]
  },
  {
   "cell_type": "code",
   "execution_count": null,
   "metadata": {},
   "outputs": [],
   "source": [
    "with open('/content/gdrive/My Drive/mbta_past_alerts_CR.pkl', 'rb') as f: \n",
    "    mynewlist = pickle.load(f)\n",
    "    mynewlist"
   ]
  },
  {
   "cell_type": "code",
   "execution_count": null,
   "metadata": {},
   "outputs": [],
   "source": [
    "#Active period gives you an idea of the validity of the problem. Peak times: Monday – Friday, 7 – 9 AM and 4 – 7 PM\n",
    "#All 12 trains\n",
    "commuter_rails=['CR-Lowell','CR-Fitchburg','CR-Framingham','CR-Worcester', 'CR-Franklin', \n",
    "                'CR-Greenbush', 'CR-Haverhill','CR-Kingston','CR-Middleborough','CR-Needham',\n",
    "                'CR-Newburyport','CR-Providence']"
   ]
  },
  {
   "cell_type": "code",
   "execution_count": null,
   "metadata": {},
   "outputs": [],
   "source": [
    "#Checking the total cases to see if there is signal. There were ~33000 cases of service alerts\n",
    "total_cases=list()\n",
    "for i in range (len(mynewlist)):\n",
    "  print(len(mynewlist[i]['past_alerts']))\n",
    "  total_cases.append(int(len(mynewlist[i]['past_alerts'])))\n",
    "  #print(i)\n",
    "sum(total_cases)"
   ]
  },
  {
   "cell_type": "code",
   "execution_count": null,
   "metadata": {},
   "outputs": [],
   "source": [
    "#Collecting all the meaningful information and placing it in one dataframe\n",
    "\n",
    "trains=list()\n",
    "service_alert_df_causes=list()\n",
    "service_alert_df_effect=list()\n",
    "service_alert_df_description=list()\n",
    "service_alert_df_header=list()\n",
    "service_alert_df_trip_id=list()\n",
    "service_alert_df_start=list()\n",
    "service_alert_df_stop=list()\n",
    "\n",
    "for i in range (0,len(mynewlist)): #each train (16) for 24 months 384 datasets\n",
    "  for j in range(0,len(mynewlist[i]['past_alerts'])): #first train\n",
    "    if len(mynewlist[i]['past_alerts'][j]['alert_versions']) != 0:\n",
    "      trains.append(mynewlist[i]['past_alerts'][j]['alert_versions'][0]['informed_entity'][0]['route_id'])\n",
    "      service_alert_df_causes.append(mynewlist[i]['past_alerts'][j]['alert_versions'][0]['cause'])\n",
    "      service_alert_df_effect.append(mynewlist[i]['past_alerts'][j]['alert_versions'][0]['effect'])\n",
    "      service_alert_df_description.append(mynewlist[i]['past_alerts'][j]['alert_versions'][0].get('description_text',None))\n",
    "      service_alert_df_header.append(mynewlist[i]['past_alerts'][j]['alert_versions'][0].get('header_text',None))\n",
    "      service_alert_df_trip_id.append(mynewlist[i]['past_alerts'][j]['alert_versions'][0]['informed_entity'][0].get('trip_id',None))\n",
    "      service_alert_df_start.append(mynewlist[i]['past_alerts'][j]['alert_versions'][0]['valid_from'])\n",
    "      service_alert_df_stop.append(mynewlist[i]['past_alerts'][j]['alert_versions'][0]['valid_to'])\n"
   ]
  },
  {
   "cell_type": "markdown",
   "metadata": {},
   "source": [
    "Information collected: Route ids, Causes, Effects, Description text, Headers, Trip Id for Direction, Valid to and valid from to get the duration of the alert."
   ]
  },
  {
   "cell_type": "code",
   "execution_count": null,
   "metadata": {},
   "outputs": [],
   "source": [
    "#Saved the data onto a dataframe\n",
    "for i in range(0, len(service_alert_df_start)): \n",
    "  service_alert_df_start[i] = int(service_alert_df_start[i]) \n",
    "for i in range(0, len(service_alert_df_stop)): \n",
    "  service_alert_df_stop[i] = int(service_alert_df_stop[i]) \n",
    "\n",
    "two_yrs_df=pd.DataFrame(list(zip(trains, service_alert_df_causes,service_alert_df_effect,service_alert_df_description,service_alert_df_header,service_alert_df_trip_id,service_alert_df_start,service_alert_df_stop)),\n",
    "                 columns=['Trains', 'Cause','Effect','Description','Header','Trip_ID','Start','Stop'])\n",
    "two_yrs_df.to_pickle('/content/gdrive/My Drive/Two_yrs_allCR_v2.pkl')"
   ]
  },
  {
   "cell_type": "code",
   "execution_count": null,
   "metadata": {},
   "outputs": [],
   "source": [
    "#Remove all emergency, police activity, and construction issues from the service alert list\n",
    "two_yrs_unpickled_df = pd.read_pickle('/content/gdrive/My Drive/Two_yrs_allCR_v2.pkl')\n",
    "two_yrs_unpickled_df.Cause.unique()\n",
    "mask1 = two_yrs_unpickled_df['Cause'] != 'CONSTRUCTION' \n",
    "mask2 = two_yrs_unpickled_df['Cause'] != 'POLICE_ACTIVITY'\n",
    "mask3 = two_yrs_unpickled_df['Cause'] != 'MEDICAL_EMERGENCY'\n",
    "mask4 = (mask1) & (mask2)\n",
    "mask5 = (mask4) & (mask3)\n",
    "two_yrs_unpickled_df = two_yrs_unpickled_df[mask5]\n"
   ]
  },
  {
   "cell_type": "code",
   "execution_count": null,
   "metadata": {},
   "outputs": [],
   "source": [
    "#Convert the epoch time to timestamps\n",
    "service_alert_df_Start_Time=list(two_yrs_unpickled_df.Start.apply(datetime.datetime.fromtimestamp))\n",
    "service_alert_df_Stop_Time=list(two_yrs_unpickled_df.Stop.apply(datetime.datetime.fromtimestamp))"
   ]
  },
  {
   "cell_type": "code",
   "execution_count": null,
   "metadata": {},
   "outputs": [],
   "source": [
    "#Label for the hours of service interruption = Stop-start time.\n",
    "two_yrs_unpickled_df['Service_Interruption_StartTime'] = service_alert_df_Start_Time\n",
    "two_yrs_unpickled_df['Service_Interruption_StopTime'] = service_alert_df_Stop_Time"
   ]
  },
  {
   "cell_type": "code",
   "execution_count": null,
   "metadata": {},
   "outputs": [],
   "source": [
    "#Calculating the hours of service interruption\n",
    "hours_of_service_interruption=[]\n",
    "two_yrs_unpickled_df['Total_Hours_of_Service_Interruption'] = two_yrs_unpickled_df['Service_Interruption_StopTime'] - two_yrs_unpickled_df['Service_Interruption_StartTime']\n",
    "two_yrs_unpickled_df['Total_Hours_of_Service_Interruption']=two_yrs_unpickled_df['Total_Hours_of_Service_Interruption']/np.timedelta64(1,'h')"
   ]
  },
  {
   "cell_type": "code",
   "execution_count": null,
   "metadata": {},
   "outputs": [],
   "source": [
    "#Found names that needed to be cleaned to get the train IDs. Made a function to handle all of them but it needed \n",
    "#more modifications than necessary for eg.,'CR-Weekday-Spring-19-707-AmtrakSwitch'\n",
    "weird_name = 'CR-Weekday-Spring-19-707-AmtrakSwitch'\n",
    "\n",
    "def strangenames2(weird_name):\n",
    "  if weird_name != None:\n",
    "    weird_name = str(weird_name)\n",
    "    listofnumbers = [int(s) for s in weird_name.split(\"-\") if s.isdigit()]\n",
    "    if len(listofnumbers) >1:\n",
    "      return int(listofnumbers[1])\n",
    "    elif len(listofnumbers) == 0:\n",
    "      raise ValueError(weird_name)\n",
    "    else: return int(listofnumbers[0])\n",
    "  else: \n",
    "    return 0\n",
    "  \n",
    "def strangenames(weird_name):\n",
    "  if weird_name != None:\n",
    "    if 'ExtremeReduced' in str(weird_name).split(\"-\"):\n",
    "      return int(str(weird_name).split(\"-\")[2])\n",
    "    elif 'April16' in str(weird_name).split(\"-\"):\n",
    "      return int(str(weird_name).split(\"-\")[3])\n",
    "    elif 'April21' in str(weird_name).split(\"-\"):\n",
    "      return int(str(weird_name).split(\"-\")[3])\n",
    "    elif 'April22' in str(weird_name).split(\"-\"):\n",
    "      return int(str(weird_name).split(\"-\")[3])\n",
    "    elif 'Woll' in str(weird_name).split(\"-\"):\n",
    "      return int(str(weird_name).split(\"-\")[3])\n",
    "    else: \n",
    "      return int(str(weird_name).split(\"-\")[4])\n",
    "  else:\n",
    "    return(None)"
   ]
  },
  {
   "cell_type": "code",
   "execution_count": null,
   "metadata": {},
   "outputs": [],
   "source": [
    "two_yrs_unpickled_df['Trip_Train_ID'] = two_yrs_unpickled_df.Trip_ID.apply(strangenames)\n",
    "two_yrs_unpickled_df['Trip_Train_ID'] = two_yrs_unpickled_df.Trip_ID.apply(strangenames2)"
   ]
  },
  {
   "cell_type": "code",
   "execution_count": null,
   "metadata": {},
   "outputs": [],
   "source": [
    "#Save to a pickle file\n",
    "two_yrs_unpickled_df.to_pickle('/content/gdrive/My Drive/Two_yrs_allCR.pkl')"
   ]
  },
  {
   "cell_type": "code",
   "execution_count": null,
   "metadata": {},
   "outputs": [],
   "source": [
    "two_yrs_unpickled_df = pd.read_pickle('/content/gdrive/My Drive/Two_yrs_allCR.pkl')"
   ]
  },
  {
   "cell_type": "code",
   "execution_count": null,
   "metadata": {},
   "outputs": [],
   "source": [
    "Two_years_group_by_time_df = two_yrs_unpickled_df\n",
    "Two_years_group_by_time_df[\"StartTime\"] = two_yrs_unpickled_df['Service_Interruption_StartTime']\n",
    "Two_years_group_by_time_df = Two_years_group_by_time_df.set_index('StartTime')\n",
    "Two_years_group_by_time_df['Weekday_Name'] = Two_years_group_by_time_df.index.weekday_name"
   ]
  },
  {
   "cell_type": "markdown",
   "metadata": {},
   "source": [
    "Engineered a feature for peak and non-peak hours and added that as an identifier."
   ]
  },
  {
   "cell_type": "code",
   "execution_count": null,
   "metadata": {},
   "outputs": [],
   "source": [
    "#I binned the date based on peak/non-peak times to evaluate usage of the train. Peak times are from 7-9 am and 4-7 pm on weekdays\n",
    "def ispeak(x):\n",
    "  if x.Weekday_Name in [\"Saturday\", \"Sunday\"]:\n",
    "    return \"OFF_PEAK\"\n",
    "  elif (datetime.time(7,00,00) <= x.Service_Interruption_StartTime.time() <= datetime.time(9,00,00)) or (datetime.time(16,00,00) <= x.Service_Interruption_StartTime.time() <= datetime.time(19,00,00)):                                                \n",
    "    return \"PEAK\"\n",
    "  else: \n",
    "    return \"PEAK\""
   ]
  },
  {
   "cell_type": "code",
   "execution_count": null,
   "metadata": {},
   "outputs": [],
   "source": [
    "usage=list()\n",
    "for i in range(0, len(Two_years_group_by_time_df)):\n",
    "  usage.append(ispeak(Two_years_group_by_time_df.iloc[i]))\n",
    "\n",
    "Two_years_group_by_time_df[\"Usage\"] = usage "
   ]
  },
  {
   "cell_type": "markdown",
   "metadata": {},
   "source": [
    "Once the API information was cleaned, I combined this dataframe with reliability data from the MBTA performance which required scraping from the MBTA performance website https://www.mbta.com/developers/mbta-performance"
   ]
  },
  {
   "cell_type": "code",
   "execution_count": null,
   "metadata": {},
   "outputs": [],
   "source": [
    "MBTA_reliability_df = pd.read_pickle('/content/gdrive/My Drive/MBTA_reliability.pkl')"
   ]
  },
  {
   "cell_type": "code",
   "execution_count": null,
   "metadata": {},
   "outputs": [],
   "source": [
    "MBTA_reliability_df[\"Time\"] = pd.to_datetime(MBTA_reliability_df[\"service_date\"])"
   ]
  },
  {
   "cell_type": "code",
   "execution_count": null,
   "metadata": {},
   "outputs": [],
   "source": [
    "set(list(MBTA_reliability_df.gtfs_route_id))"
   ]
  },
  {
   "cell_type": "code",
   "execution_count": null,
   "metadata": {},
   "outputs": [],
   "source": [
    "MBTA_reliability_df[\"Trains\"] =  MBTA_reliability_df.gtfs_route_id\n",
    "MBTA_reliability_df[\"Usage\"] =  MBTA_reliability_df.peak_offpeak_ind\n",
    "MBTA_reliability_df[\"Year\"] =  MBTA_reliability_df.Time.dt.year\n",
    "MBTA_reliability_df[\"Month\"] =  MBTA_reliability_df.Time.dt.month\n",
    "MBTA_reliability_df[\"Day\"] =  MBTA_reliability_df.Time.dt.day"
   ]
  },
  {
   "cell_type": "code",
   "execution_count": null,
   "metadata": {},
   "outputs": [],
   "source": [
    "Two_years_group_by_time_df[\"Year\"] =  Two_years_group_by_time_df.Service_Interruption_StartTime.dt.year\n",
    "Two_years_group_by_time_df[\"Month\"] =  Two_years_group_by_time_df.Service_Interruption_StartTime.dt.month\n",
    "Two_years_group_by_time_df[\"Day\"] =  Two_years_group_by_time_df.Service_Interruption_StartTime.dt.day"
   ]
  },
  {
   "cell_type": "code",
   "execution_count": null,
   "metadata": {},
   "outputs": [],
   "source": [
    "#Combine data through masks and applying it on the reliability data\n",
    "import tqdm\n",
    "mbtadata=list()\n",
    "NEW_df = pd.DataFrame()\n",
    "for i in tqdm.tqdm_notebook(range(0, len(Two_years_group_by_time_df))):\n",
    "  trainmask = MBTA_reliability_df['Trains'] == Two_years_group_by_time_df['Trains'][i]\n",
    "  yearmask = MBTA_reliability_df['Year'] == Two_years_group_by_time_df['Year'][i]\n",
    "  usagemask = MBTA_reliability_df['Usage'] == Two_years_group_by_time_df['Usage'][i]\n",
    "  monthmask = MBTA_reliability_df['Month'] == Two_years_group_by_time_df['Month'][i]\n",
    "  daymask = MBTA_reliability_df['Day'] == Two_years_group_by_time_df['Day'][i]\n",
    "  mask1 = (trainmask) & (usagemask)\n",
    "  mask2 = (mask1) & (yearmask)\n",
    "  mask3 = (mask2) & (monthmask)\n",
    "  mask4 = (mask3) & (daymask)\n",
    "  if mask4.sum()>0:\n",
    "    NEW_df = NEW_df.append(MBTA_reliability_df[mask4].iloc[0,:])\n",
    "    mbtadata.append(i)"
   ]
  },
  {
   "cell_type": "code",
   "execution_count": null,
   "metadata": {},
   "outputs": [],
   "source": [
    "x_df = Two_years_group_by_time_df.iloc[mbtadata,:]\n",
    "x_df.reset_index(drop=True, inplace=True)\n",
    "NEW_df.reset_index(drop=True, inplace=True)\n",
    "z = pd.concat([x_df, NEW_df], axis = 1)"
   ]
  },
  {
   "cell_type": "markdown",
   "metadata": {},
   "source": [
    "Engineered the Reliability metric from MBTA performance data and proceeded to remove some unnecessary columns that were repeated."
   ]
  },
  {
   "cell_type": "code",
   "execution_count": null,
   "metadata": {},
   "outputs": [],
   "source": [
    "z['Reliability']=z.otp_numerator/z.otp_denomi_tor\n",
    "z1 = z.iloc[:, [j for j, c in enumerate(z.columns) if j != 21]]\n",
    "z2 = z1.iloc[:, [j for j, c in enumerate(z1.columns) if j != 17]]\n",
    "z3 = z2.iloc[:, [j for j, c in enumerate(z2.columns) if j != 17]]\n",
    "z4 = z3.iloc[:, [j for j, c in enumerate(z3.columns) if j != 20]]\n",
    "z5 = z4.iloc[:, [j for j, c in enumerate(z4.columns) if j != 19]]"
   ]
  },
  {
   "cell_type": "markdown",
   "metadata": {},
   "source": [
    "Merged the frequency data of the movement of the trains from the schedule of the MBTA commuter rails."
   ]
  },
  {
   "cell_type": "code",
   "execution_count": null,
   "metadata": {},
   "outputs": [],
   "source": [
    "freq_of_train = pd.read_csv('/content/gdrive/My Drive/Colab Notebooks/Frequency_of_train.csv')\n",
    "z_withfreq = pd.merge(z5, freq_of_train, on=['Trains','Weekday_Name'], how= 'outer')"
   ]
  },
  {
   "cell_type": "code",
   "execution_count": null,
   "metadata": {},
   "outputs": [],
   "source": [
    "#Encoded dummy variables for peak/non-peak\n",
    "dummies=pd.get_dummies(z_withfreq['Usage'])\n",
    "z_withfreq = z_withfreq.join(dummies)\n",
    "z_withfreq.to_pickle('/content/gdrive/My Drive/Two_years_group_by_time_withreliability__withfreq_allCR.pkl')"
   ]
  },
  {
   "cell_type": "markdown",
   "metadata": {},
   "source": [
    "Combining this data with weather scraped from NOAA."
   ]
  },
  {
   "cell_type": "code",
   "execution_count": null,
   "metadata": {},
   "outputs": [],
   "source": [
    "#Adding weather data\n",
    "weather = pd.read_csv('/content/gdrive/My Drive/Colab Notebooks/weather.csv')"
   ]
  },
  {
   "cell_type": "code",
   "execution_count": null,
   "metadata": {},
   "outputs": [],
   "source": [
    "#In order to merge effectively, it was necessary to add a \n",
    "   #few extra columns to the weather data that matched with the original dataframe\n",
    "weather['Time'] = pd.to_datetime(weather.DATE, utc=True)\n",
    "weather['Year'] = weather['Time'].dt.year\n",
    "weather['Month'] = weather['Time'].dt.month\n",
    "weather['Day'] = weather['Time'].dt.day\n",
    "z_withfreq_weather = pd.merge(z_withfreq, weather, on=['Year', 'Month', 'Day'], how = \"left\")"
   ]
  },
  {
   "cell_type": "code",
   "execution_count": null,
   "metadata": {},
   "outputs": [],
   "source": [
    "#Handling train ids. Converted train ids into directionality: Outbound or Inbound\n",
    "OutorIn=list()\n",
    "for i in range(0, len(z_withfreq_weather)):\n",
    "  if z_withfreq_weather.Trip_Train_ID[i] % 2 == 0 and z_withfreq_weather.Trip_Train_ID[i] != 0: #even\n",
    "    OutorIn.append('Inbound')\n",
    "  elif z_withfreq_weather.Trip_Train_ID[i] % 2 != 0 and z_withfreq_weather.Trip_Train_ID[i] != 0: #odd\n",
    "    OutorIn.append('Outbound')\n",
    "  else: \n",
    "    OutorIn.append('Both')\n",
    "z_withfreq_weather['Direction'] = pd.DataFrame(OutorIn)"
   ]
  },
  {
   "cell_type": "code",
   "execution_count": null,
   "metadata": {},
   "outputs": [],
   "source": [
    "Outbound = list()\n",
    "Inbound = list()\n",
    "for i in range(0, len(z_withfreq_weather)):\n",
    "  if z_withfreq_weather['Direction'][i] == 'Inbound' :\n",
    "    Outbound.append(0)\n",
    "    Inbound.append(1)\n",
    "  elif z_withfreq_weather['Direction'][i] == 'Outbound':\n",
    "    Outbound.append(1)\n",
    "    Inbound.append(0)\n",
    "  elif z_withfreq_weather['Direction'][i] == 'Both':\n",
    "    Outbound.append(1)\n",
    "    Inbound.append(1)\n",
    "  else:\n",
    "    Outbound.append(0)\n",
    "    Inbound.append(0)\n",
    "    \n",
    "z_withfreq_weather['Outbound'] = pd.DataFrame(Outbound)\n",
    "z_withfreq_weather['Inbound'] = pd.DataFrame(Inbound)"
   ]
  },
  {
   "cell_type": "markdown",
   "metadata": {},
   "source": [
    "Adding ridership data extrapolated from MBTA blue books and surveys."
   ]
  },
  {
   "cell_type": "code",
   "execution_count": null,
   "metadata": {},
   "outputs": [],
   "source": [
    "ridership = pd.read_csv('/content/gdrive/My Drive/Colab Notebooks/Ridership.csv')\n",
    "ridership = ridership[[\"Trains\" , \"Weekday_Name\", \"Ridership_2018\"]]"
   ]
  },
  {
   "cell_type": "code",
   "execution_count": null,
   "metadata": {},
   "outputs": [],
   "source": [
    "z_withfreq_weather_ridership = pd.merge(z_withfreq_weather, ridership, on=['Trains', 'Weekday_Name'], how = \"left\")"
   ]
  },
  {
   "cell_type": "code",
   "execution_count": null,
   "metadata": {},
   "outputs": [],
   "source": [
    "z_withfreq_weather_ridership['Service_Interruption_StartTime'].dt.hour.plot.hist(bins=6)\n",
    "z_withfreq_weather_ridership['Total_Hours_of_Service_Interruption']"
   ]
  },
  {
   "cell_type": "code",
   "execution_count": null,
   "metadata": {},
   "outputs": [],
   "source": [
    "z_withfreq_weather_ridership.Reliability= z_withfreq_weather_ridership.Reliability.fillna(0)"
   ]
  },
  {
   "cell_type": "markdown",
   "metadata": {},
   "source": [
    "This data was binned in 2 hr intervals for every train. This was done to avoid regressing every datum into a continuous model.The trains had different frequencies of alerts and movement. 2 hr bins were ideal because it was broad enough to account for all trains. So, for each day, data was collected and binned into 12-2 AM, 2-4 AM, 4-6 AM, etc. 0s were added to the empty bins. "
   ]
  },
  {
   "cell_type": "code",
   "execution_count": null,
   "metadata": {},
   "outputs": [],
   "source": [
    "#Try applying bins of 2 hrs over the day and fill with 0 s\n",
    "from __future__ import division\n",
    "Super_dict = {}\n",
    "Super_dict[\"Trains\"] =list()\n",
    "Super_dict[\"Year\"] = list()\n",
    "Super_dict[\"Month\"] = list()\n",
    "Super_dict[\"Day\"] = list()\n",
    "Super_dict[\"Weekday_Name\"] =list()\n",
    "Super_dict[\"Hour\"] = list()\n",
    "Super_dict[\"Reliability\"] = list()\n",
    "Super_dict[\"Frequency\"] = list()\n",
    "Super_dict[\"Peak\"] = list()\n",
    "Super_dict[\"Outbound\"] = list()\n",
    "Super_dict[\"Inbound\"] = list()\n",
    "Super_dict[\"Temperature\"] = list()\n",
    "Super_dict[\"Snow\"] = list()\n",
    "Super_dict[\"Wind\"] = list()\n",
    "Super_dict[\"Precipitation\"] = list()\n",
    "Super_dict[\"Ridership_2018\"] = list()\n",
    "Super_dict[\"TotalServiceAlerts\"]=list()\n",
    "Super_dict[\"Total_Hours_of_Service_Interruption\"] = list()\n",
    "\n",
    "for train in set(z_withfreq_weather_ridership[\"Trains\"]):\n",
    "  print(train)\n",
    "  train_mask = z_withfreq_weather_ridership[\"Trains\"] == train\n",
    "  TRAIN_df = z_withfreq_weather_ridership[train_mask]\n",
    "  for yr in [2017, 2018, 2019]:\n",
    "    yearmask = TRAIN_df[\"Year\"] == yr\n",
    "    for month in range (1,13):\n",
    "      monthmask = TRAIN_df['Month'] == month\n",
    "      for day in range (1, 32):\n",
    "        daymask = TRAIN_df['Day'] == day\n",
    "        mask1 = (yearmask) & (monthmask) \n",
    "        mask = (mask1) &(daymask)\n",
    "        if mask.sum() > 0:\n",
    "          day_df = TRAIN_df[mask]\n",
    "          for ting in range(12):   #12 bins for a day; 2 hrs each \n",
    "            pre_hour_mask = day_df['Service_Interruption_StartTime'].dt.hour >= ting*2\n",
    "            post_hour_mask = day_df['Service_Interruption_StartTime'].dt.hour < (ting+1)*2\n",
    "            hour_mask = (pre_hour_mask) & (post_hour_mask)\n",
    "            #accumulate information in these bins but if there are none, fill with 0\n",
    "            Super_dict[\"Trains\"].append(train)\n",
    "            Super_dict[\"Year\"].append(yr)\n",
    "            Super_dict[\"Month\"].append(month)\n",
    "            Super_dict[\"Day\"].append(day)\n",
    "            Super_dict[\"Hour\"].append(ting*3)\n",
    "            Super_dict[\"Weekday_Name\"].append(list(day_df['Weekday_Name'])[0])\n",
    "            Super_dict[\"Reliability\"].append(day_df['Reliability'].mean())\n",
    "            Super_dict[\"Temperature\"].append(day_df['TAVG'].mean())\n",
    "            Super_dict[\"Snow\"].append(day_df['SNOW'].mean())\n",
    "            Super_dict[\"Wind\"].append(day_df['AWND'].mean())\n",
    "            Super_dict[\"Precipitation\"].append(day_df['PRCP'].mean())\n",
    "            Super_dict[\"Ridership_2018\"].append(day_df['Ridership_2018'].mean()\n",
    "            if hour_mask.sum()>0:\n",
    "              df = day_df[hour_mask]\n",
    "              try:\n",
    "                Super_dict[\"Frequency\"].append(len(df)/df['Frequency'].mean())\n",
    "              except ZeroDivisionError:\n",
    "                Super_dict[\"Frequency\"].append(0)\n",
    "              Super_dict[\"Peak\"].append(df['PEAK'].mean())\n",
    "              Super_dict[\"Outbound\"].append(df['Outbound'].mean())\n",
    "              Super_dict[\"Inbound\"].append(df['Inbound'].mean())\n",
    "              Super_dict[\"TotalServiceAlerts\"].append(len(df))\n",
    "              if df['Total_Hours_of_Service_Interruption'].mean() < 2:\n",
    "                Super_dict[\"Total_Hours_of_Service_Interruption\"].append(df['Total_Hours_of_Service_Interruption'].mean())\n",
    "              else:\n",
    "                Super_dict[\"Total_Hours_of_Service_Interruption\"].append(2) \n",
    "              #print(ting*4, (ting+1)*4)\n",
    "            else:\n",
    "              Super_dict[\"Frequency\"].append(0)\n",
    "              if ting in [2, 5]:\n",
    "                Super_dict[\"Peak\"].append(1)\n",
    "              else:Super_dict[\"Peak\"].append(0)\n",
    "              Super_dict[\"Outbound\"].append(1)\n",
    "              Super_dict[\"Inbound\"].append(1)\n",
    "              Super_dict[\"TotalServiceAlerts\"].append(0)\n",
    "              Super_dict[\"Total_Hours_of_Service_Interruption\"].append(0)\n",
    "          #print(Super_dict)\n",
    "          #1/0"
   ]
  },
  {
   "cell_type": "markdown",
   "metadata": {},
   "source": [
    "Made a dictionary to collect all the beneficial information but categorizing them based on trains. The features include:\n",
    "Trains, Month, Day, Relaibility, Frequency (adjusted to alerts and the number of rides), Peak/Nonpeak, Inbound/Outbound, Weahter, and the response variable. I tried 2, 3, 4 hr bins and 2 hr bins worked well. So this code only shows the information for 2 hr intervals."
   ]
  },
  {
   "cell_type": "code",
   "execution_count": null,
   "metadata": {},
   "outputs": [],
   "source": [
    "Super_df = pd.DataFrame(Super_dict)\n",
    "Super_df.isna().sum() # check for any Nans"
   ]
  },
  {
   "cell_type": "code",
   "execution_count": null,
   "metadata": {},
   "outputs": [],
   "source": [
    "Super_df[\"BinnedHours\"]=Super_df.Total_Hours_of_Service_Interruption.apply(np.round) #just to check the hours of interruptions signal\n",
    "Super_df[\"BinnedHours\"].plot.hist(bins=12) #most service interruption hours range between an hour or two"
   ]
  },
  {
   "cell_type": "markdown",
   "metadata": {},
   "source": [
    "Recent repairs and lasting effects of snow were accounted for by accounting for lags, I used the metric of lag of service hours and snow from the past day to inform the new day's response variable"
   ]
  },
  {
   "cell_type": "code",
   "execution_count": null,
   "metadata": {},
   "outputs": [],
   "source": [
    "###Service interruption lag\n",
    "Super_df_with_lag = pd.DataFrame()\n",
    "for train in (set(Super_df[\"Trains\"])):\n",
    "  train_mask = Super_df[\"Trains\"] == train\n",
    "  TRAIN_df = Super_df[train_mask]\n",
    "  s2 = TRAIN_df['Total_Hours_of_Service_Interruption']\n",
    "  TRAIN_df = pd.concat([TRAIN_df, s2.shift().rename('Lag')], axis=1).fillna(0)\n",
    "  Super_df_with_lag = pd.concat([Super_df_with_lag, TRAIN_df])\n",
    "  #1/0\n",
    "#Super_df = [\"Lag_Total_Hours_of_Service_Interruption\"].append(df['Total_Hours_of_Service_Interruption'].max().shift(), axis = 1)\n",
    "Super_df_with_lag\n",
    "\n",
    "###Snow lag. Shift column of snow as well to account for effects on the next day\n",
    "Super_df_with_lag_hours_snow = pd.DataFrame()\n",
    "for train in (set(Super_df_with_lag[\"Trains\"])):\n",
    "  train_mask = Super_df_with_lag[\"Trains\"] == train\n",
    "  TRAIN_df = Super_df_with_lag[train_mask]\n",
    "  s2 = TRAIN_df['Snow']\n",
    "  TRAIN_df = pd.concat([TRAIN_df, s2.shift().rename('SnowLag')], axis=1).fillna(0)\n",
    "  Super_df_with_lag_hours_snow = pd.concat([Super_df_with_lag_hours_snow, TRAIN_df])\n",
    "  #1/0\n",
    "Super_df_with_lag_hours_snow"
   ]
  },
  {
   "cell_type": "code",
   "execution_count": null,
   "metadata": {},
   "outputs": [],
   "source": [
    "Super_df_with_lag_hours_snow.to_pickle('/content/gdrive/My Drive/Commuter_Project_Dataset.pkl')"
   ]
  },
  {
   "cell_type": "markdown",
   "metadata": {},
   "source": [
    "## Exploring features in the data"
   ]
  },
  {
   "cell_type": "code",
   "execution_count": 12,
   "metadata": {},
   "outputs": [],
   "source": [
    "#Super_df_with_lag_hours_snow = pd.read_pickle('C:/Users/ritwi/Google Drive/Commuter_Project_Dataset.pkl')"
   ]
  },
  {
   "cell_type": "code",
   "execution_count": 13,
   "metadata": {},
   "outputs": [
    {
     "data": {
      "text/html": [
       "<div>\n",
       "<style scoped>\n",
       "    .dataframe tbody tr th:only-of-type {\n",
       "        vertical-align: middle;\n",
       "    }\n",
       "\n",
       "    .dataframe tbody tr th {\n",
       "        vertical-align: top;\n",
       "    }\n",
       "\n",
       "    .dataframe thead th {\n",
       "        text-align: right;\n",
       "    }\n",
       "</style>\n",
       "<table border=\"1\" class=\"dataframe\">\n",
       "  <thead>\n",
       "    <tr style=\"text-align: right;\">\n",
       "      <th></th>\n",
       "      <th>Year</th>\n",
       "      <th>Month</th>\n",
       "      <th>Day</th>\n",
       "      <th>Weekday_Name</th>\n",
       "      <th>Hour</th>\n",
       "      <th>Reliability</th>\n",
       "      <th>Frequency</th>\n",
       "      <th>Peak</th>\n",
       "      <th>Outbound</th>\n",
       "      <th>Inbound</th>\n",
       "      <th>Temperature</th>\n",
       "      <th>Snow</th>\n",
       "      <th>Wind</th>\n",
       "      <th>Precipitation</th>\n",
       "      <th>Ridership_2018</th>\n",
       "      <th>TotalServiceAlerts</th>\n",
       "      <th>Total_Hours_of_Service_Interruption</th>\n",
       "      <th>BinnedHours</th>\n",
       "      <th>Lag</th>\n",
       "      <th>SnowLag</th>\n",
       "    </tr>\n",
       "    <tr>\n",
       "      <th>Trains</th>\n",
       "      <th></th>\n",
       "      <th></th>\n",
       "      <th></th>\n",
       "      <th></th>\n",
       "      <th></th>\n",
       "      <th></th>\n",
       "      <th></th>\n",
       "      <th></th>\n",
       "      <th></th>\n",
       "      <th></th>\n",
       "      <th></th>\n",
       "      <th></th>\n",
       "      <th></th>\n",
       "      <th></th>\n",
       "      <th></th>\n",
       "      <th></th>\n",
       "      <th></th>\n",
       "      <th></th>\n",
       "      <th></th>\n",
       "      <th></th>\n",
       "    </tr>\n",
       "  </thead>\n",
       "  <tbody>\n",
       "    <tr>\n",
       "      <td>CR-Fairmount</td>\n",
       "      <td>396</td>\n",
       "      <td>396</td>\n",
       "      <td>396</td>\n",
       "      <td>396</td>\n",
       "      <td>396</td>\n",
       "      <td>396</td>\n",
       "      <td>396</td>\n",
       "      <td>396</td>\n",
       "      <td>396</td>\n",
       "      <td>396</td>\n",
       "      <td>396</td>\n",
       "      <td>396</td>\n",
       "      <td>396</td>\n",
       "      <td>396</td>\n",
       "      <td>396</td>\n",
       "      <td>396</td>\n",
       "      <td>396</td>\n",
       "      <td>396</td>\n",
       "      <td>396</td>\n",
       "      <td>396</td>\n",
       "    </tr>\n",
       "    <tr>\n",
       "      <td>CR-Fitchburg</td>\n",
       "      <td>7968</td>\n",
       "      <td>7968</td>\n",
       "      <td>7968</td>\n",
       "      <td>7968</td>\n",
       "      <td>7968</td>\n",
       "      <td>7968</td>\n",
       "      <td>7968</td>\n",
       "      <td>7968</td>\n",
       "      <td>7968</td>\n",
       "      <td>7968</td>\n",
       "      <td>7968</td>\n",
       "      <td>7968</td>\n",
       "      <td>7968</td>\n",
       "      <td>7968</td>\n",
       "      <td>7968</td>\n",
       "      <td>7968</td>\n",
       "      <td>7968</td>\n",
       "      <td>7968</td>\n",
       "      <td>7968</td>\n",
       "      <td>7968</td>\n",
       "    </tr>\n",
       "    <tr>\n",
       "      <td>CR-Franklin</td>\n",
       "      <td>5952</td>\n",
       "      <td>5952</td>\n",
       "      <td>5952</td>\n",
       "      <td>5952</td>\n",
       "      <td>5952</td>\n",
       "      <td>5952</td>\n",
       "      <td>5952</td>\n",
       "      <td>5952</td>\n",
       "      <td>5952</td>\n",
       "      <td>5952</td>\n",
       "      <td>5952</td>\n",
       "      <td>5952</td>\n",
       "      <td>5952</td>\n",
       "      <td>5952</td>\n",
       "      <td>5952</td>\n",
       "      <td>5952</td>\n",
       "      <td>5952</td>\n",
       "      <td>5952</td>\n",
       "      <td>5952</td>\n",
       "      <td>5952</td>\n",
       "    </tr>\n",
       "    <tr>\n",
       "      <td>CR-Greenbush</td>\n",
       "      <td>4920</td>\n",
       "      <td>4920</td>\n",
       "      <td>4920</td>\n",
       "      <td>4920</td>\n",
       "      <td>4920</td>\n",
       "      <td>4920</td>\n",
       "      <td>4920</td>\n",
       "      <td>4920</td>\n",
       "      <td>4920</td>\n",
       "      <td>4920</td>\n",
       "      <td>4920</td>\n",
       "      <td>4920</td>\n",
       "      <td>4920</td>\n",
       "      <td>4920</td>\n",
       "      <td>4920</td>\n",
       "      <td>4920</td>\n",
       "      <td>4920</td>\n",
       "      <td>4920</td>\n",
       "      <td>4920</td>\n",
       "      <td>4920</td>\n",
       "    </tr>\n",
       "    <tr>\n",
       "      <td>CR-Haverhill</td>\n",
       "      <td>5940</td>\n",
       "      <td>5940</td>\n",
       "      <td>5940</td>\n",
       "      <td>5940</td>\n",
       "      <td>5940</td>\n",
       "      <td>5940</td>\n",
       "      <td>5940</td>\n",
       "      <td>5940</td>\n",
       "      <td>5940</td>\n",
       "      <td>5940</td>\n",
       "      <td>5940</td>\n",
       "      <td>5940</td>\n",
       "      <td>5940</td>\n",
       "      <td>5940</td>\n",
       "      <td>5940</td>\n",
       "      <td>5940</td>\n",
       "      <td>5940</td>\n",
       "      <td>5940</td>\n",
       "      <td>5940</td>\n",
       "      <td>5940</td>\n",
       "    </tr>\n",
       "  </tbody>\n",
       "</table>\n",
       "</div>"
      ],
      "text/plain": [
       "              Year  Month   Day  Weekday_Name  Hour  Reliability  Frequency  \\\n",
       "Trains                                                                        \n",
       "CR-Fairmount   396    396   396           396   396          396        396   \n",
       "CR-Fitchburg  7968   7968  7968          7968  7968         7968       7968   \n",
       "CR-Franklin   5952   5952  5952          5952  5952         5952       5952   \n",
       "CR-Greenbush  4920   4920  4920          4920  4920         4920       4920   \n",
       "CR-Haverhill  5940   5940  5940          5940  5940         5940       5940   \n",
       "\n",
       "              Peak  Outbound  Inbound  Temperature  Snow  Wind  Precipitation  \\\n",
       "Trains                                                                          \n",
       "CR-Fairmount   396       396      396          396   396   396            396   \n",
       "CR-Fitchburg  7968      7968     7968         7968  7968  7968           7968   \n",
       "CR-Franklin   5952      5952     5952         5952  5952  5952           5952   \n",
       "CR-Greenbush  4920      4920     4920         4920  4920  4920           4920   \n",
       "CR-Haverhill  5940      5940     5940         5940  5940  5940           5940   \n",
       "\n",
       "              Ridership_2018  TotalServiceAlerts  \\\n",
       "Trains                                             \n",
       "CR-Fairmount             396                 396   \n",
       "CR-Fitchburg            7968                7968   \n",
       "CR-Franklin             5952                5952   \n",
       "CR-Greenbush            4920                4920   \n",
       "CR-Haverhill            5940                5940   \n",
       "\n",
       "              Total_Hours_of_Service_Interruption  BinnedHours   Lag  SnowLag  \n",
       "Trains                                                                         \n",
       "CR-Fairmount                                  396          396   396      396  \n",
       "CR-Fitchburg                                 7968         7968  7968     7968  \n",
       "CR-Franklin                                  5952         5952  5952     5952  \n",
       "CR-Greenbush                                 4920         4920  4920     4920  \n",
       "CR-Haverhill                                 5940         5940  5940     5940  "
      ]
     },
     "execution_count": 13,
     "metadata": {},
     "output_type": "execute_result"
    }
   ],
   "source": [
    "count_alerts = Super_df_with_lag_hours_snow.groupby(\"Trains\")[.count()] #need to normalize based on schedule\n",
    "count_alerts.head()"
   ]
  },
  {
   "cell_type": "code",
   "execution_count": 39,
   "metadata": {},
   "outputs": [
    {
     "data": {
      "text/plain": [
       "Trains\n",
       "CR-Fairmount         20.737500\n",
       "CR-Needham           40.937500\n",
       "CR-Franklin          79.588694\n",
       "CR-Newburyport      106.723982\n",
       "CR-Haverhill        107.380952\n",
       "CR-Greenbush        108.375000\n",
       "CR-Kingston         114.791667\n",
       "CR-Middleborough    150.166667\n",
       "CR-Providence       160.694444\n",
       "CR-Worcester        179.071429\n",
       "CR-Lowell           194.865385\n",
       "CR-Fitchburg        284.842105\n",
       "Name: Frequency, dtype: float64"
      ]
     },
     "execution_count": 39,
     "metadata": {},
     "output_type": "execute_result"
    }
   ],
   "source": [
    "count_train_frequency = Super_df_with_lag_hours_snow.groupby(\"Trains\")[\"Frequency\"].sum()\n",
    "count_train_frequency.sort_values()"
   ]
  },
  {
   "cell_type": "code",
   "execution_count": 40,
   "metadata": {},
   "outputs": [
    {
     "data": {
      "text/plain": [
       "Trains\n",
       "CR-Fairmount          1217304.0\n",
       "CR-Needham           22617972.0\n",
       "CR-Kingston          30147480.0\n",
       "CR-Greenbush         30178800.0\n",
       "CR-Haverhill         45671604.0\n",
       "CR-Middleborough     48802020.0\n",
       "CR-Newburyport       60216432.0\n",
       "CR-Franklin          72095592.0\n",
       "CR-Fitchburg         72495000.0\n",
       "CR-Lowell            74899440.0\n",
       "CR-Worcester        147544224.0\n",
       "CR-Providence       150224868.0\n",
       "Name: Ridership_2018, dtype: float64"
      ]
     },
     "execution_count": 40,
     "metadata": {},
     "output_type": "execute_result"
    }
   ],
   "source": [
    "count_train_riders = Super_df_with_lag_hours_snow.groupby(\"Trains\")[\"Ridership_2018\"].sum()\n",
    "count_train_riders.sort_values()"
   ]
  },
  {
   "cell_type": "code",
   "execution_count": 20,
   "metadata": {},
   "outputs": [
    {
     "data": {
      "image/png": "[encoded data removed]",
      "text/plain": [
       "<Figure size 432x288 with 1 Axes>"
      ]
     },
     "metadata": {
      "needs_background": "light"
     },
     "output_type": "display_data"
    }
   ],
   "source": [
    "count_train_frequency.sort_values()\n",
    "count_alerts.Year/count_train_frequency\n",
    "data = pd.DataFrame(count_alerts.Year/count_train_frequency)\n",
    "ax = data.plot(kind= 'bar', legend = False) #over the last two years"
   ]
  },
  {
   "cell_type": "code",
   "execution_count": 54,
   "metadata": {},
   "outputs": [
    {
     "data": {
      "image/png": "[encoded data removed]",
      "text/plain": [
       "<Figure size 432x288 with 1 Axes>"
      ]
     },
     "metadata": {
      "needs_background": "light"
     },
     "output_type": "display_data"
    },
    {
     "data": {
      "image/png": "[encoded data removed]",
      "text/plain": [
       "<Figure size 432x288 with 1 Axes>"
      ]
     },
     "metadata": {
      "needs_background": "light"
     },
     "output_type": "display_data"
    }
   ],
   "source": [
    "from sklearn.preprocessing import MinMaxScaler\n",
    "scaler = MinMaxScaler()\n",
    "count_train_frequency.sort_values()\n",
    "count_train_riders.sort_values()\n",
    "df = count_alerts.Year/(count_train_frequency*count_train_riders)\n",
    "data = pd.DataFrame(df.sort_values())\n",
    "data2=pd.DataFrame(scaler.fit_transform(data))\n",
    "ax = data2.plot(kind= 'bar', legend = False) #over the last two years\n",
    "ax2 = data.plot(kind= 'bar', legend = False) #over the last two years"
   ]
  },
  {
   "cell_type": "code",
   "execution_count": null,
   "metadata": {},
   "outputs": [],
   "source": [
    "count_train_frequency.sort_values()\n",
    "count_alerts.Year/count_train_frequency\n",
    "data = pd.DataFrame((count_alerts.Year/count_train_frequency).sort_values())\n",
    "ax = data.plot(kind= 'bar', legend = False) #over the last two years"
   ]
  },
  {
   "cell_type": "code",
   "execution_count": 5,
   "metadata": {},
   "outputs": [
    {
     "data": {
      "text/plain": [
       "[Text(0, 0.5, 'Number of alerts normalized to frequency of trains'),\n",
       " Text(0.5, 0, 'Trains ')]"
      ]
     },
     "execution_count": 5,
     "metadata": {},
     "output_type": "execute_result"
    },
    {
     "data": {
      "image/png": "[encoded data removed]",
      "text/plain": [
       "<Figure size 1440x576 with 1 Axes>"
      ]
     },
     "metadata": {
      "needs_background": "light"
     },
     "output_type": "display_data"
    },
    {
     "data": {
      "text/plain": [
       "<Figure size 720x504 with 0 Axes>"
      ]
     },
     "metadata": {},
     "output_type": "display_data"
    }
   ],
   "source": [
    "fig, axes = plt.subplots(figsize = (20,8))\n",
    "y_df = Super_df_with_lag_hours_snow['Frequency']\n",
    "fig = plt.figure(figsize=(10,7))\n",
    "fig = sns.barplot(x= 'Trains', y = y_df , hue = 'Peak',data = Super_df_with_lag_hours_snow, ax = axes)\n",
    "fig.set(xlabel='Trains ', ylabel='Number of alerts normalized to frequency of trains')"
   ]
  },
  {
   "cell_type": "code",
   "execution_count": 6,
   "metadata": {},
   "outputs": [
    {
     "data": {
      "image/png": "[encoded data removed]",
      "text/plain": [
       "<Figure size 1440x1080 with 2 Axes>"
      ]
     },
     "metadata": {
      "needs_background": "light"
     },
     "output_type": "display_data"
    }
   ],
   "source": [
    "corr = Super_df_with_lag_hours_snow.corr()\n",
    "plt.subplots(figsize=(20,15))\n",
    "ax = sns.heatmap(\n",
    "    corr, \n",
    "    vmin=-1, vmax=1, center=0,\n",
    "    cmap=sns.diverging_palette(20, 220, n=200),\n",
    "    square=True\n",
    ")\n",
    "ax.set_xticklabels(\n",
    "    ax.get_xticklabels(),\n",
    "    rotation=45,\n",
    "    horizontalalignment='right'\n",
    ");"
   ]
  },
  {
   "cell_type": "code",
   "execution_count": 17,
   "metadata": {},
   "outputs": [
    {
     "data": {
      "image/png": "[encoded data removed]",
      "text/plain": [
       "<Figure size 1440x576 with 1 Axes>"
      ]
     },
     "metadata": {
      "needs_background": "light"
     },
     "output_type": "display_data"
    }
   ],
   "source": [
    "bins = [0, 10,20,30, 40,50, 60, 70, 80,90, 100]\n",
    "x_df = pd.cut(Super_df_with_lag_hours_snow['Temperature'], bins)\n",
    "#x_df.value_counts(). Take values of all columns and account for it. \n",
    "count_temp=list()\n",
    "for i in range(0, len(Super_df_with_lag_hours_snow)):\n",
    "  if Super_df_with_lag_hours_snow[\"Temperature\"][i] <= 10:\n",
    "    count_temp.append(816/(816+1248+5928+14412+11652+11004+11604+10248+2340))\n",
    "  elif Super_df_with_lag_hours_snow[\"Temperature\"][i] >10 and Super_df_with_lag_hours_snow[\"Temperature\"][i] <= 20:\n",
    "    count_temp.append(1248/(816+1248+5928+14412+11652+11004+11604+10248+2340))\n",
    "  elif Super_df_with_lag_hours_snow[\"Temperature\"][i] >20 and Super_df_with_lag_hours_snow[\"Temperature\"][i] <= 30:\n",
    "    count_temp.append(5928/(816+1248+5928+14412+11652+11004+11604+10248+2340))\n",
    "  elif Super_df_with_lag_hours_snow[\"Temperature\"][i] >30 and Super_df_with_lag_hours_snow[\"Temperature\"][i] <= 40:\n",
    "    count_temp.append(14412/(816+1248+5928+14412+11652+11004+11604+10248+2340))\n",
    "  elif Super_df_with_lag_hours_snow[\"Temperature\"][i] >40 and Super_df_with_lag_hours_snow[\"Temperature\"][i] <= 50:\n",
    "    count_temp.append(11652/(816+1248+5928+14412+11652+11004+11604+10248+2340))\n",
    "  elif Super_df_with_lag_hours_snow[\"Temperature\"][i] >50 and Super_df_with_lag_hours_snow[\"Temperature\"][i] <= 60:\n",
    "    count_temp.append(11004/(816+1248+5928+14412+11652+11004+11604+10248+2340))\n",
    "  elif Super_df_with_lag_hours_snow[\"Temperature\"][i] >60 and Super_df_with_lag_hours_snow[\"Temperature\"][i] <= 70:\n",
    "    count_temp.append(11604/(816+1248+5928+14412+11652+11004+11604+10248+2340))\n",
    "  elif Super_df_with_lag_hours_snow[\"Temperature\"][i] >70 and Super_df_with_lag_hours_snow[\"Temperature\"][i] <= 80:\n",
    "    count_temp.append(10248/(816+1248+5928+14412+11652+11004+11604+10248+2340))\n",
    "  elif Super_df_with_lag_hours_snow[\"Temperature\"][i] >80 and Super_df_with_lag_hours_snow[\"Temperature\"][i] <= 90:\n",
    "    count_temp.append(2340/(816+1248+5928+14412+11652+11004+11604+10248+2340))\n",
    "  else:  \n",
    "    count_temp.append(0)\n",
    "    \n",
    "Super_df_with_lag_hours_snow[\"Count_Temp\"] = pd.DataFrame(count_temp)\n",
    "fig, axes = plt.subplots(figsize = (20,8))\n",
    "#x_df = Super_df_with_lag_hours_snow['Temperature']\n",
    "Snow_df = Super_df_with_lag_hours_snow['Snow']\n",
    "y_df = Super_df_with_lag_hours_snow['Total_Hours_of_Service_Interruption']/Super_df_with_lag_hours_snow['Count_Temp']*Super_df_with_lag_hours_snow['Frequency']\n",
    "fig = sns.barplot(x = x_df, y = y_df ,data = Super_df_with_lag_hours_snow, ax = axes,  palette= \"RdBu_r\")"
   ]
  },
  {
   "cell_type": "markdown",
   "metadata": {},
   "source": [
    "# 2) Models: applying regression on features\n",
    "Testing models on the dataset with the response variable of hours of service interruptions"
   ]
  },
  {
   "cell_type": "code",
   "execution_count": 8,
   "metadata": {},
   "outputs": [],
   "source": [
    "X = Super_df_with_lag_hours_snow.drop('Total_Hours_of_Service_Interruption', axis=1)\n",
    "y = Super_df_with_lag_hours_snow[['Total_Hours_of_Service_Interruption']]"
   ]
  },
  {
   "cell_type": "code",
   "execution_count": null,
   "metadata": {},
   "outputs": [],
   "source": [
    "#Encoding features\n",
    "trains_dict = dict(zip(list(X[\"Trains\"].value_counts().index), range(12)))\n",
    "X['Trains'].map(trains_dict)\n",
    "year_dict = dict(zip(list(X[\"Year\"].value_counts().index), range(2017,2018,2019)))\n",
    "X['Year'].map(year_dict)\n",
    "month_dict = dict(zip(list(X[\"Year\"].value_counts().index), range(12)))\n",
    "X['Month'].map(month_dict)\n",
    "weekday_name_day_dict = dict(zip(list(X[\"Weekday_Name\"].value_counts().index), range(12)))\n",
    "X['Weekday_Name'].map(weekday_name_day_dict)"
   ]
  },
  {
   "cell_type": "code",
   "execution_count": 10,
   "metadata": {},
   "outputs": [],
   "source": [
    "trains_dummies = pd.get_dummies(X['Trains'])\n",
    "year_dummies = pd.get_dummies(X['Year'])\n",
    "month_dummies= pd.get_dummies(X['Month'])\n",
    "weekday_name_dummies = pd.get_dummies(X['Weekday_Name'])"
   ]
  },
  {
   "cell_type": "code",
   "execution_count": 11,
   "metadata": {},
   "outputs": [],
   "source": [
    "X = X.join([trains_dummies, year_dummies, month_dummies, weekday_name_dummies])\n",
    "X = X.drop(\"Trains\", axis =1)\n",
    "X = X.drop(\"Month\", axis =1)\n",
    "X = X.drop(\"Weekday_Name\", axis =1)\n",
    "X = X.drop(\"Year\", axis =1)"
   ]
  },
  {
   "cell_type": "code",
   "execution_count": 34,
   "metadata": {},
   "outputs": [
    {
     "data": {
      "image/png": "[encoded data removed]",
      "text/plain": [
       "<Figure size 432x288 with 1 Axes>"
      ]
     },
     "metadata": {
      "needs_background": "light"
     },
     "output_type": "display_data"
    },
    {
     "data": {
      "image/png": "[encoded data removed]",
      "text/plain": [
       "<Figure size 432x288 with 1 Axes>"
      ]
     },
     "metadata": {
      "needs_background": "light"
     },
     "output_type": "display_data"
    },
    {
     "data": {
      "image/png": "[encoded data removed]",
      "text/plain": [
       "<Figure size 432x288 with 1 Axes>"
      ]
     },
     "metadata": {
      "needs_background": "light"
     },
     "output_type": "display_data"
    },
    {
     "data": {
      "image/png": "[encoded data removed]",
      "text/plain": [
       "<Figure size 432x288 with 1 Axes>"
      ]
     },
     "metadata": {
      "needs_background": "light"
     },
     "output_type": "display_data"
    },
    {
     "data": {
      "image/png": "[encoded data removed]",
      "text/plain": [
       "<Figure size 432x288 with 1 Axes>"
      ]
     },
     "metadata": {
      "needs_background": "light"
     },
     "output_type": "display_data"
    },
    {
     "data": {
      "image/png": "[encoded data removed]",
      "text/plain": [
       "<Figure size 432x288 with 1 Axes>"
      ]
     },
     "metadata": {
      "needs_background": "light"
     },
     "output_type": "display_data"
    },
    {
     "data": {
      "image/png": "[encoded data removed]",
      "text/plain": [
       "<Figure size 432x288 with 1 Axes>"
      ]
     },
     "metadata": {
      "needs_background": "light"
     },
     "output_type": "display_data"
    },
    {
     "data": {
      "image/png": "[encoded data removed]",
      "text/plain": [
       "<Figure size 432x288 with 1 Axes>"
      ]
     },
     "metadata": {
      "needs_background": "light"
     },
     "output_type": "display_data"
    },
    {
     "data": {
      "image/png": "[encoded data removed]",
      "text/plain": [
       "<Figure size 432x288 with 1 Axes>"
      ]
     },
     "metadata": {
      "needs_background": "light"
     },
     "output_type": "display_data"
    },
    {
     "data": {
      "image/png": "[encoded data removed]",
      "text/plain": [
       "<Figure size 432x288 with 1 Axes>"
      ]
     },
     "metadata": {
      "needs_background": "light"
     },
     "output_type": "display_data"
    },
    {
     "data": {
      "image/png": "[encoded data removed]",
      "text/plain": [
       "<Figure size 432x288 with 1 Axes>"
      ]
     },
     "metadata": {
      "needs_background": "light"
     },
     "output_type": "display_data"
    },
    {
     "data": {
      "image/png": "[encoded data removed]",
      "text/plain": [
       "<Figure size 432x288 with 1 Axes>"
      ]
     },
     "metadata": {
      "needs_background": "light"
     },
     "output_type": "display_data"
    }
   ],
   "source": [
    "#Check distribution of all the features\n",
    "for i, col in enumerate(X.columns[0:12]):\n",
    "    plt.figure(i)\n",
    "    X[col].plot.hist()\n",
    "#mostly even distribution"
   ]
  },
  {
   "cell_type": "markdown",
   "metadata": {},
   "source": [
    "Linear Regression across all features. \n",
    "(But this may not work as well because there are significant numbers of categorical features in the dataframe.)"
   ]
  },
  {
   "cell_type": "code",
   "execution_count": 5,
   "metadata": {},
   "outputs": [],
   "source": [
    "# Load libraries necessary for the models\n",
    "def LoadPackages(): pass\n",
    "from pandas.plotting import scatter_matrix\n",
    "import matplotlib.pyplot as plt\n",
    "import seaborn as sns\n",
    "\n",
    "from sklearn.feature_selection import RFE\n",
    "from sklearn.model_selection import train_test_split\n",
    "from sklearn.preprocessing import StandardScaler\n",
    "from sklearn.model_selection import cross_val_score\n",
    "from sklearn.model_selection import StratifiedKFold\n",
    "from sklearn import metrics\n",
    "from sklearn.metrics import mean_squared_error\n",
    "from sklearn.linear_model import LogisticRegression, LinearRegression\n",
    "from sklearn.ensemble import RandomForestRegressor\n",
    "from sklearn.discriminant_analysis import LinearDiscriminantAnalysis\n",
    "from sklearn.preprocessing import LabelEncoder, OneHotEncoder\n",
    "from xgboost import XGBRegressor\n",
    "import lightgbm as lgb\n",
    "from lightgbm import LGBMRegressor\n",
    "%matplotlib inline"
   ]
  },
  {
   "cell_type": "code",
   "execution_count": null,
   "metadata": {},
   "outputs": [],
   "source": [
    "X_train, X_test, y_train, y_test = train_test_split(X, newy, train_size=0.8, random_state=42)\n",
    "scaler = StandardScaler().fit(X_train)\n",
    "X_train_scaled = pd.DataFrame(scaler.transform(X_train), index=X_train.index.values, columns=X_train.columns.values)\n",
    "X_test_scaled = pd.DataFrame(scaler.transform(X_test), index=X_test.index.values, columns=X_test.columns.values)"
   ]
  },
  {
   "cell_type": "code",
   "execution_count": null,
   "metadata": {},
   "outputs": [],
   "source": [
    "from sklearn.decomposition import PCA\n",
    "pca = PCA(n_components = 10 )\n",
    "pca.fit(X_train)\n",
    "cpts = pd.DataFrame(pca.transform(X_train)) \n",
    "x_axis = np.arange(1, pca.n_components_+1)\n",
    "\n",
    "pca_scaled = PCA()\n",
    "pca_scaled.fit(X_train_scaled)\n",
    "cpts_scaled = pd.DataFrame(pca.transform(X_train_scaled)) #applied on training data"
   ]
  },
  {
   "cell_type": "code",
   "execution_count": null,
   "metadata": {},
   "outputs": [],
   "source": [
    "#Applying PCA on scaled data gave a better output\n",
    "# plt.plot(np.cumsum(pca_scaled.explained_variance_ratio_))\n",
    "# plt.xlabel('number of components')\n",
    "# plt.ylabel('cumulative explained variance');"
   ]
  },
  {
   "cell_type": "code",
   "execution_count": null,
   "metadata": {},
   "outputs": [],
   "source": [
    "#Check score of scaled test type\n",
    "from sklearn.metrics import r2_score\n",
    "from scipy.stats import spearmanr, pearsonr\n",
    "predicted_train = rf2.predict(X_train_scaled)\n",
    "predicted_test = rf2.predict(X_test_scaled)\n",
    "test_score = r2_score(y_test, predicted_test)\n",
    "\n",
    "test_score = r2_score(y_test, predictions)\n",
    "print(f'Test data R-2 score: {test_score:>5.3}')\n",
    "print(\"Mean squared error: %.2f\" % mean_squared_error(y_test, predictions))\n",
    "print(\"Mean absolute error: %.2f\" % metrics.mean_absolute_error(y_test, predictions))"
   ]
  },
  {
   "cell_type": "code",
   "execution_count": null,
   "metadata": {},
   "outputs": [],
   "source": [
    "#Results from a regression:\n",
    "# Test data R-2 score: 0.422\n",
    "# Mean squared error: 0.08\n",
    "# Mean absolute error: 0.13"
   ]
  },
  {
   "cell_type": "markdown",
   "metadata": {},
   "source": [
    "Evaluating other regression models. This doesn't require scaling"
   ]
  },
  {
   "cell_type": "code",
   "execution_count": null,
   "metadata": {},
   "outputs": [],
   "source": [
    "# Check Multiple Models for linear regression\n",
    "models = []\n",
    "def append_models():\n",
    "    #models.append(('Linear Regression', LinearRegression()))\n",
    "\n",
    "\n",
    "    models.append(('Random Forest Regressor', RandomForestRegressor(n_estimators = 1000, random_state=42)))\n",
    "    \n",
    "    models.append(('XGBoost Regressor', XGBRegressor(random_state=42,n_estimators = 500,silent=True)))\n",
    "\n",
    "    models.append(('LightGBM', LGBMRegressor(boosting_type='gbdt', num_leaves=31, max_depth=7, learning_rate=0.1, \n",
    "                       n_estimators=70,  min_split_gain=0.0, min_child_weight=0.001, min_child_samples=20, subsample=1.0, subsample_freq=0, \n",
    "                       colsample_bytree=1.0, reg_alpha=0.0, reg_lambda=0.0, random_state=None, n_jobs=-1, silent=True)))\n",
    "\n",
    "append_models()"
   ]
  },
  {
   "cell_type": "code",
   "execution_count": null,
   "metadata": {},
   "outputs": [],
   "source": [
    "for name, model in models:\n",
    "  scores_dict_fold = OrderedDict()\n",
    "  scores_dict_fold['name'] = name\n",
    "\n",
    "  predictions_overall = np.array([])\n",
    "  y_test_overall = np.array([])\n",
    "  conf_matrix_list = np.array([])\n",
    "  X_train, X_test, y_train, y_test = train_test_split(X, y, train_size=0.75, random_state=42)\n",
    "  model.fit(X_train, y_train.values.ravel())\n",
    "  predictions = model.predict(X_test)\n",
    "  test_score = r2_score(y_test, predictions)\n",
    "  print(f'Test data R-2 score: {test_score:>5.3}')\n",
    "  print(\"Mean squared error: %.2f\" % mean_squared_error(y_test, predictions))\n",
    "  print(\"Mean absolute error: %.2f\" % metrics.mean_absolute_error(y_test, predictions))"
   ]
  },
  {
   "cell_type": "code",
   "execution_count": null,
   "metadata": {},
   "outputs": [],
   "source": [
    "##Random Forest\n",
    "# Test data R-2 score: 0.661\n",
    "# Mean squared error: 0.05\n",
    "# Mean absolute error: 0.08\n",
    "\n",
    "##XGBoost Regression\n",
    "# Test data R-2 score: 0.665\n",
    "# Mean squared error: 0.05\n",
    "# Mean absolute error: 0.08\n",
    "\n",
    "##LightGBM Regression (fastest!)\n",
    "# Test data R-2 score: 0.674\n",
    "# Mean squared error: 0.05\n",
    "# Mean absolute error: 0.08"
   ]
  },
  {
   "cell_type": "markdown",
   "metadata": {},
   "source": [
    "Light GBM regression: efficient, fast, and tree/leaf-based"
   ]
  },
  {
   "cell_type": "code",
   "execution_count": null,
   "metadata": {},
   "outputs": [],
   "source": [
    "X_train, X_test, y_train, y_test = train_test_split(X, y, train_size=0.75, random_state=42)"
   ]
  },
  {
   "cell_type": "markdown",
   "metadata": {},
   "source": [
    "A GridSearchCV for hyperparameter tuning. I have maximised independence with the lag columns, so a grid CV search can be applied to this to find the best parameters"
   ]
  },
  {
   "cell_type": "code",
   "execution_count": null,
   "metadata": {},
   "outputs": [],
   "source": [
    "from sklearn.model_selection import GridSearchCV\n",
    "estimator = lgb.LGBMRegressor()\n",
    "param_grid = {\n",
    "    'learning_rate': [ 0.05,0.1, 0.2],\n",
    "    'n_estimators': [60, 80,100,120,180],\n",
    "    'num_leaves':[40,50],\n",
    "    'max_depth':[15], 'subsample_for_bin':[500,1000], 'min_child_samples':[10],\n",
    "}\n",
    "gbm = GridSearchCV(estimator, param_grid, cv=3)\n",
    "gbm.fit(X_train, y_train)\n",
    "#print(gbm.cv_results_)\n",
    "\n",
    "#print('Best parameters found by grid search are:', gbm.best_params_)"
   ]
  },
  {
   "cell_type": "code",
   "execution_count": 21,
   "metadata": {},
   "outputs": [
    {
     "data": {
      "text/html": [
       "<div>\n",
       "<style scoped>\n",
       "    .dataframe tbody tr th:only-of-type {\n",
       "        vertical-align: middle;\n",
       "    }\n",
       "\n",
       "    .dataframe tbody tr th {\n",
       "        vertical-align: top;\n",
       "    }\n",
       "\n",
       "    .dataframe thead th {\n",
       "        text-align: right;\n",
       "    }\n",
       "</style>\n",
       "<table border=\"1\" class=\"dataframe\">\n",
       "  <thead>\n",
       "    <tr style=\"text-align: right;\">\n",
       "      <th></th>\n",
       "      <th>Day</th>\n",
       "      <th>Hour</th>\n",
       "      <th>Reliability</th>\n",
       "      <th>Frequency</th>\n",
       "      <th>Peak</th>\n",
       "      <th>Outbound</th>\n",
       "      <th>Inbound</th>\n",
       "      <th>Temperature</th>\n",
       "      <th>Snow</th>\n",
       "      <th>Wind</th>\n",
       "      <th>...</th>\n",
       "      <th>10</th>\n",
       "      <th>11</th>\n",
       "      <th>12</th>\n",
       "      <th>Friday</th>\n",
       "      <th>Monday</th>\n",
       "      <th>Saturday</th>\n",
       "      <th>Sunday</th>\n",
       "      <th>Thursday</th>\n",
       "      <th>Tuesday</th>\n",
       "      <th>Wednesday</th>\n",
       "    </tr>\n",
       "  </thead>\n",
       "  <tbody>\n",
       "    <tr>\n",
       "      <td>0</td>\n",
       "      <td>9</td>\n",
       "      <td>0</td>\n",
       "      <td>0.9375</td>\n",
       "      <td>0.0</td>\n",
       "      <td>0.0</td>\n",
       "      <td>1.0</td>\n",
       "      <td>1.0</td>\n",
       "      <td>41.0</td>\n",
       "      <td>0.0</td>\n",
       "      <td>7.38</td>\n",
       "      <td>...</td>\n",
       "      <td>0</td>\n",
       "      <td>1</td>\n",
       "      <td>0</td>\n",
       "      <td>0</td>\n",
       "      <td>0</td>\n",
       "      <td>0</td>\n",
       "      <td>0</td>\n",
       "      <td>1</td>\n",
       "      <td>0</td>\n",
       "      <td>0</td>\n",
       "    </tr>\n",
       "    <tr>\n",
       "      <td>1</td>\n",
       "      <td>9</td>\n",
       "      <td>2</td>\n",
       "      <td>0.9375</td>\n",
       "      <td>0.0</td>\n",
       "      <td>0.0</td>\n",
       "      <td>1.0</td>\n",
       "      <td>1.0</td>\n",
       "      <td>41.0</td>\n",
       "      <td>0.0</td>\n",
       "      <td>7.38</td>\n",
       "      <td>...</td>\n",
       "      <td>0</td>\n",
       "      <td>1</td>\n",
       "      <td>0</td>\n",
       "      <td>0</td>\n",
       "      <td>0</td>\n",
       "      <td>0</td>\n",
       "      <td>0</td>\n",
       "      <td>1</td>\n",
       "      <td>0</td>\n",
       "      <td>0</td>\n",
       "    </tr>\n",
       "    <tr>\n",
       "      <td>2</td>\n",
       "      <td>9</td>\n",
       "      <td>4</td>\n",
       "      <td>0.9375</td>\n",
       "      <td>0.0</td>\n",
       "      <td>0.0</td>\n",
       "      <td>1.0</td>\n",
       "      <td>1.0</td>\n",
       "      <td>41.0</td>\n",
       "      <td>0.0</td>\n",
       "      <td>7.38</td>\n",
       "      <td>...</td>\n",
       "      <td>0</td>\n",
       "      <td>1</td>\n",
       "      <td>0</td>\n",
       "      <td>0</td>\n",
       "      <td>0</td>\n",
       "      <td>0</td>\n",
       "      <td>0</td>\n",
       "      <td>1</td>\n",
       "      <td>0</td>\n",
       "      <td>0</td>\n",
       "    </tr>\n",
       "    <tr>\n",
       "      <td>3</td>\n",
       "      <td>9</td>\n",
       "      <td>6</td>\n",
       "      <td>0.9375</td>\n",
       "      <td>0.0</td>\n",
       "      <td>1.0</td>\n",
       "      <td>1.0</td>\n",
       "      <td>1.0</td>\n",
       "      <td>41.0</td>\n",
       "      <td>0.0</td>\n",
       "      <td>7.38</td>\n",
       "      <td>...</td>\n",
       "      <td>0</td>\n",
       "      <td>1</td>\n",
       "      <td>0</td>\n",
       "      <td>0</td>\n",
       "      <td>0</td>\n",
       "      <td>0</td>\n",
       "      <td>0</td>\n",
       "      <td>1</td>\n",
       "      <td>0</td>\n",
       "      <td>0</td>\n",
       "    </tr>\n",
       "    <tr>\n",
       "      <td>4</td>\n",
       "      <td>9</td>\n",
       "      <td>8</td>\n",
       "      <td>0.9375</td>\n",
       "      <td>0.0</td>\n",
       "      <td>1.0</td>\n",
       "      <td>1.0</td>\n",
       "      <td>1.0</td>\n",
       "      <td>41.0</td>\n",
       "      <td>0.0</td>\n",
       "      <td>7.38</td>\n",
       "      <td>...</td>\n",
       "      <td>0</td>\n",
       "      <td>1</td>\n",
       "      <td>0</td>\n",
       "      <td>0</td>\n",
       "      <td>0</td>\n",
       "      <td>0</td>\n",
       "      <td>0</td>\n",
       "      <td>1</td>\n",
       "      <td>0</td>\n",
       "      <td>0</td>\n",
       "    </tr>\n",
       "  </tbody>\n",
       "</table>\n",
       "<p>5 rows × 48 columns</p>\n",
       "</div>"
      ],
      "text/plain": [
       "   Day  Hour  Reliability  Frequency  Peak  Outbound  Inbound  Temperature  \\\n",
       "0    9     0       0.9375        0.0   0.0       1.0      1.0         41.0   \n",
       "1    9     2       0.9375        0.0   0.0       1.0      1.0         41.0   \n",
       "2    9     4       0.9375        0.0   0.0       1.0      1.0         41.0   \n",
       "3    9     6       0.9375        0.0   1.0       1.0      1.0         41.0   \n",
       "4    9     8       0.9375        0.0   1.0       1.0      1.0         41.0   \n",
       "\n",
       "   Snow  Wind  ...  10  11  12  Friday  Monday  Saturday  Sunday  Thursday  \\\n",
       "0   0.0  7.38  ...   0   1   0       0       0         0       0         1   \n",
       "1   0.0  7.38  ...   0   1   0       0       0         0       0         1   \n",
       "2   0.0  7.38  ...   0   1   0       0       0         0       0         1   \n",
       "3   0.0  7.38  ...   0   1   0       0       0         0       0         1   \n",
       "4   0.0  7.38  ...   0   1   0       0       0         0       0         1   \n",
       "\n",
       "   Tuesday  Wednesday  \n",
       "0        0          0  \n",
       "1        0          0  \n",
       "2        0          0  \n",
       "3        0          0  \n",
       "4        0          0  \n",
       "\n",
       "[5 rows x 48 columns]"
      ]
     },
     "execution_count": 21,
     "metadata": {},
     "output_type": "execute_result"
    }
   ],
   "source": [
    "X.head()"
   ]
  },
  {
   "cell_type": "code",
   "execution_count": 6,
   "metadata": {},
   "outputs": [],
   "source": [
    "X_train, X_test, y_train, y_test = train_test_split(X, y, train_size=0.75, random_state=42)"
   ]
  },
  {
   "cell_type": "markdown",
   "metadata": {},
   "source": [
    "These are the parameters that we need to tune to make the right predictors (as discussed before, these simple predictors are decision trees):\n",
    "max_depth (both XGBoost and LightGBM): This provides the maximum depth that each decision tree is allowed to have. A smaller value signifies a weaker predictor.\n",
    "\n",
    "min_split_gain (LightGBM), gamma (XGBoost): Minimum loss reduction required to make a further partition on a leaf node of the tree. A lower value will result in deeper trees.\n",
    "\n",
    "num_leaves (LightGBM): Maximum tree leaves for base learners. A higher value results in deeper trees.\n",
    "min_child_samples (LightGBM): Minimum number of data points needed in a child (leaf) node. According to the LightGBM docs, this is a very important parameter to prevent overfitting.\n",
    "\n",
    "subsample (both XGBoost and LightGBM): This specifies the fraction of rows to consider at each subsampling stage. By default it is set to 1, which means no subsampling.\n",
    "\n",
    "colsample_bytree (both XGBoost and LightGBM): This specifies the fraction of columns to consider at each subsampling stage. By default, it is set to 1, which means no subsampling.\n",
    "\n",
    "subsample_freq (LightGBM): This specifies that bagging should be performed after every k iterations. By default it is set to 0. So make sure that you set it to some non-zero value if you want to enable subsampling.\n",
    "\n",
    "learning_rate (both XGBoost and LightGBM):\n",
    "It is also called shrinkage. The effect of using it is that learning is slowed down, in turn requiring more trees to be added to the ensemble. This gives the model a regularisation effect. It reduces the influence of each individual tree and leaves space for future trees to improve the model."
   ]
  },
  {
   "cell_type": "code",
   "execution_count": 40,
   "metadata": {},
   "outputs": [],
   "source": [
    "#Testing parameters\n",
    "model = lgb.LGBMRegressor(boosting_type='gbdt', num_leaves=70, max_depth=15, learning_rate=0.1, \n",
    "                       n_estimators=120, subsample_for_bin=1000,\n",
    "                      min_split_gain=0,  min_child_samples=5, min_child_weight=0.0001,subsample=1.0, subsample_freq=0, \n",
    "                      colsample_bytree=1.0, reg_alpha=0.0, reg_lambda=0.0, random_state=42, n_jobs=-1, silent=True)"
   ]
  },
  {
   "cell_type": "code",
   "execution_count": 41,
   "metadata": {},
   "outputs": [
    {
     "name": "stdout",
     "output_type": "stream",
     "text": [
      "Test data R-2 score: 0.672\n",
      "Mean squared error: 0.05\n",
      "Mean absolute error: 0.08\n"
     ]
    }
   ],
   "source": [
    "model.fit(X_train, y_train.values.ravel())\n",
    "preds = model.predict(X_test)\n",
    "from sklearn.metrics import r2_score\n",
    "test_score = r2_score(y_test, preds)\n",
    "print(f'Test data R-2 score: {test_score:>5.3}')\n",
    "print(\"Mean squared error: %.2f\" % mean_squared_error(y_test, preds))\n",
    "print(\"Mean absolute error: %.2f\" % metrics.mean_absolute_error(y_test, preds))"
   ]
  },
  {
   "cell_type": "code",
   "execution_count": 42,
   "metadata": {},
   "outputs": [
    {
     "name": "stderr",
     "output_type": "stream",
     "text": [
      "C:\\Users\\ritwi\\AppData\\Local\\Continuum\\anaconda3\\lib\\site-packages\\ipykernel_launcher.py:10: FutureWarning: `Series.plot()` should not be called with positional arguments, only keyword arguments. The order of positional arguments will change in the future. Use `Series.plot(kind='bar')` instead of `Series.plot('bar',)`.\n",
      "  # Remove the CWD from sys.path while we load stuff.\n"
     ]
    },
    {
     "data": {
      "text/plain": [
       "Text(0.5, 1.0, 'Features importance')"
      ]
     },
     "execution_count": 42,
     "metadata": {},
     "output_type": "execute_result"
    },
    {
     "data": {
      "image/png": "[encoded data removed]",
      "text/plain": [
       "<Figure size 1080x432 with 1 Axes>"
      ]
     },
     "metadata": {
      "needs_background": "light"
     },
     "output_type": "display_data"
    }
   ],
   "source": [
    "fet_ind = np.argsort(model.feature_importances_)#[::-1]\n",
    "fet_imp = model.feature_importances_[fet_ind]\n",
    "fet_ind = np.argsort(model.feature_importances_)#[::-1]\n",
    "fet_imp = model.feature_importances_[fet_ind]\n",
    "#Extracting feature names\n",
    "feature_names = pd.DataFrame(list(X.columns))\n",
    "feature_names.values[fet_ind]\n",
    "fig, ax = plt.subplots(1, 1, figsize=(15, 6))\n",
    "labels = feature_names.values[fet_ind]\n",
    "pd.Series(fet_imp, index=labels).plot('bar', ax=ax)\n",
    "ax.set_title('Features importance')"
   ]
  },
  {
   "cell_type": "code",
   "execution_count": null,
   "metadata": {},
   "outputs": [],
   "source": [
    "with open('/content/gdrive/My Drive/Commuter_lightgbm_model.pkl', 'wb') as f:\n",
    "  pickle.dump(model, f)"
   ]
  },
  {
   "cell_type": "markdown",
   "metadata": {},
   "source": [
    "A randomized grid CV search works to make the model better by randomizing the combination of hyperparameters and evaluating the combination with the best performance."
   ]
  },
  {
   "cell_type": "code",
   "execution_count": 8,
   "metadata": {},
   "outputs": [],
   "source": [
    "#grid of parameters\n",
    "gridParams = {\n",
    "    'learning_rate': [0.01,0.05],\n",
    "    'num_leaves': [150,200, 250],\n",
    "    'boosting_type' : ['gbdt'],\n",
    "    'objective' : ['regression'],\n",
    "    'min_child_samples':[2,5],\n",
    "    'max_depth' : [7,10],\n",
    "    'random_state' : [42], \n",
    "    'colsample_bytree' : [0.5, 1],\n",
    "    'subsample' : [0.7, 2, 5],\n",
    "    'subsample_freq':[0.5, 1 ,10,20],\n",
    "    'min_split_gain' : [0.01, 0.1, 2],\n",
    "    'min_data_in_leaf':[10, 20],\n",
    "    'metric':['auc']\n",
    "    }"
   ]
  },
  {
   "cell_type": "code",
   "execution_count": null,
   "metadata": {},
   "outputs": [],
   "source": [
    "#modelling\n",
    "from sklearn.model_selection import RandomizedSearchCV\n",
    "clf = lgb.LGBMRegressor()\n",
    "grid = RandomizedSearchCV(clf,gridParams,verbose=1,cv=10,n_jobs = -1,n_iter=20)\n",
    "grid.fit(X_train,y_train)"
   ]
  },
  {
   "cell_type": "code",
   "execution_count": null,
   "metadata": {},
   "outputs": [],
   "source": [
    "grid.best_params_"
   ]
  },
  {
   "cell_type": "code",
   "execution_count": null,
   "metadata": {},
   "outputs": [],
   "source": [
    "#Testing parameters\n",
    "model = lgb.LGBMRegressor(boosting_type='gbdt', num_leaves=200, max_depth=7, learning_rate=0.01, \n",
    "                       n_estimators=500, subsample_for_bin=1000,\n",
    "                      min_split_gain=0.01,  min_child_samples=5,min_data_in_leaf = 5, min_child_weight=0.0001,subsample=0.7, subsample_freq=10, \n",
    "                      colsample_bytree=1.0, reg_alpha=0.0, reg_lambda=0.0, random_state=42, n_jobs=-1, silent=True)"
   ]
  },
  {
   "cell_type": "code",
   "execution_count": null,
   "metadata": {},
   "outputs": [],
   "source": [
    "model.fit(X_train, y_train.values.ravel())\n",
    "preds"
   ]
  },
  {
   "cell_type": "code",
   "execution_count": null,
   "metadata": {},
   "outputs": [],
   "source": [
    "from sklearn.metrics import r2_score\n",
    "test_score = r2_score(y_test, preds)\n",
    "print(f'Test data R-2 score: {test_score:>5.3}')\n",
    "print(\"Mean squared error: %.2f\" % mean_squared_error(y_test, preds))\n",
    "print(\"Mean absolute error: %.2f\" % metrics.mean_absolute_error(y_test, preds))"
   ]
  },
  {
   "cell_type": "code",
   "execution_count": null,
   "metadata": {},
   "outputs": [],
   "source": [
    "with open('/content/gdrive/My Drive/Commuter_lightgbm_model_v1.pkl', 'wb') as f:\n",
    "  pickle.dump(model, f)"
   ]
  }
 ],
 "metadata": {
  "kernelspec": {
   "display_name": "Python 3",
   "language": "python",
   "name": "python3"
  },
  "language_info": {
   "codemirror_mode": {
    "name": "ipython",
    "version": 3
   },
   "file_extension": ".py",
   "mimetype": "text/x-python",
   "name": "python",
   "nbconvert_exporter": "python",
   "pygments_lexer": "ipython3",
   "version": "3.7.4"
  }
 },
 "nbformat": 4,
 "nbformat_minor": 2
}
